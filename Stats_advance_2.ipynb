{
  "nbformat": 4,
  "nbformat_minor": 0,
  "metadata": {
    "colab": {
      "provenance": []
    },
    "kernelspec": {
      "name": "python3",
      "display_name": "Python 3"
    },
    "language_info": {
      "name": "python"
    }
  },
  "cells": [
    {
      "cell_type": "markdown",
      "source": [
        "## Statistics Advance 2"
      ],
      "metadata": {
        "id": "uUbqbA10ay5v"
      }
    },
    {
      "cell_type": "markdown",
      "source": [
        "Q1 What is hypothesis testing in statistics\n",
        "\n",
        "Ans-> Hypothesis method compares two opposite statements about a population and uses sample data to decide which one is more likely to be correct.To test this assumption we first take a sample from the population and analyze it and use the results of the analysis to decide if the claim is valid or not."
      ],
      "metadata": {
        "id": "56ofewLUay2X"
      }
    },
    {
      "cell_type": "markdown",
      "source": [
        "Q2 What is the null hypothesis, and how does it differ from the alternative hypothesis\n",
        "\n",
        "Ans-> A null hypothesis is a statement in which there is no relation between the two variables.\n",
        "\n",
        "An alternative hypothesis is a statement in which there is some statistical relationship between the two variables."
      ],
      "metadata": {
        "id": "CFiNjXd2ayz7"
      }
    },
    {
      "cell_type": "markdown",
      "source": [
        "Q3 What is the significance level in hypothesis testing, and why is it important\n",
        "\n",
        " Ans-> The level of significance is defined as the fixed probability of wrong elimination of null hypothesis when in fact, it is true. The level of significance is stated to be the probability of type I error and is preset by the researcher with the outcomes of error. The level of significance is the measurement of the statistical significance. It defines whether the null hypothesis is assumed to be accepted or rejected."
      ],
      "metadata": {
        "id": "S3Fks9eUayxk"
      }
    },
    {
      "cell_type": "markdown",
      "source": [
        "Q4 What does a P-value represent in hypothesis testing\n",
        "\n",
        " Ans->   P-Values are used in statistical hypothesis testing to determine whether to reject the null hypothesis. The smaller the p-value, the stronger the likelihood that you should reject the null hypothesis."
      ],
      "metadata": {
        "id": "noDt2VjLayvb"
      }
    },
    {
      "cell_type": "markdown",
      "source": [
        "Q5 How do you interpret the P-value in hypothesis testing\n",
        "\n",
        "Ans-> P values evaluate how well the sample data support that the null hypothesis is true. It measures how compatible your data are with the null hypothesis.\n",
        "\n",
        "High P values: your data are likely with a true null.\n",
        "\n",
        "Low P values: your data are unlikely with a true null."
      ],
      "metadata": {
        "id": "4je8FgP1aytL"
      }
    },
    {
      "cell_type": "markdown",
      "source": [
        "Q6 What are Type 1 and Type 2 errors in hypothesis testing\n",
        "\n",
        " Ans-> Type 1-\n",
        "Rejecting a null hypothesis that is actually true\n",
        "\n",
        "Type 2-\n",
        "Failing to reject a null hypothesis that is actually false"
      ],
      "metadata": {
        "id": "QvtNm5jEayqZ"
      }
    },
    {
      "cell_type": "markdown",
      "source": [
        "Q7 What is the difference between a one-tailed and a two-tailed test in hypothesis testing\n",
        "\n",
        " Ans-> A one-tailed test is based on a uni-directional hypothesis where the area of rejection is on only one side of the sampling distribution.\n",
        "\n",
        " A two-tailed test is also called a nondirectional hypothesis. For checking whether the sample is greater or less than a range of values, we use the two-tailed."
      ],
      "metadata": {
        "id": "34l-V4lbayoD"
      }
    },
    {
      "cell_type": "markdown",
      "source": [
        "Q8 What is the Z-test, and when is it used in hypothesis testing\n",
        "\n",
        "Ans-> The Z-test is a statistical hypothesis test used to determine where the distribution of the test statistic we are measuring, like the mean, is part of the normal distribution.\n",
        "\n",
        "It is used when\n",
        "\n",
        "A sample size that’s greater than 30\n",
        "\n",
        "The standard deviation and mean of the population is known.\n",
        "\n",
        "The sample data is collected/acquired randomly."
      ],
      "metadata": {
        "id": "6ThaKHwIayll"
      }
    },
    {
      "cell_type": "markdown",
      "source": [
        "Q9  How do you calculate the Z-score, and what does it represent in hypothesis testing\n",
        "\n",
        "Ans-> State the Null Hypothesis\n",
        "\n",
        "State the Alternate Hypothesis\n",
        "\n",
        "State the Alternate Hypothesis\n",
        "\n",
        "Calculate the Z-Test Statistic or z score by (x-u)/(stddev/underroot(n))\n",
        "\n",
        "Then see if the hypothesis can be accepted or rejected"
      ],
      "metadata": {
        "id": "A2LDuqf7ayjF"
      }
    },
    {
      "cell_type": "markdown",
      "source": [
        "Q10 What is the T-distribution, and when should it be used instead of the normal distribution\n",
        "\n",
        "Ans-> The t-distribution is used as an alternative to the normal distribution when dealing with small sample sizes or when the population standard deviation is unknown"
      ],
      "metadata": {
        "id": "Oy9juWoBaygd"
      }
    },
    {
      "cell_type": "markdown",
      "source": [
        "Q11  What is the difference between a Z-test and a T-test\n",
        "\n",
        "Ans-> Z-tests are used for large samples (n>30) and known population standard deviation, while t-tests are used for small samples (n<30) or unknown population standard deviation"
      ],
      "metadata": {
        "id": "swi2yLCjayeJ"
      }
    },
    {
      "cell_type": "markdown",
      "source": [
        "Q12 What is the T-test, and how is it used in hypothesis testing\n",
        "\n",
        "Ans-> The goal of a t-test is to compare the means of two groups or a sample mean to a known value to see if the observed difference is likely due to chance or a real effect\n",
        "\n",
        "Calculate the T-statistic:\n",
        "Compute the t-statistic, which measures the difference between the group means relative to the variability within the groups.\n",
        "\n",
        "Determine Degrees of Freedom:\n",
        "Calculate the degrees of freedom, which is related to the sample size and influences the t-distribution.\n",
        "\n",
        "Find the P-value:\n",
        "Determine the p-value, which is the probability of observing the calculated t-statistic (or a more extreme value) if the null hypothesis is true.\n",
        "\n",
        "Compare the P-value to the Significance Level (alpha):\n",
        "\n",
        "If p-value ≤ alpha: Reject the null hypothesis. This means there is a statistically significant difference between the group means, and the alternative hypothesis is supported.\n",
        "\n",
        "If p-value > alpha: Fail to reject the null hypothesis. This means the observed difference could be due to chance, and the null hypothesis is not rejected."
      ],
      "metadata": {
        "id": "DlyVzNusayba"
      }
    },
    {
      "cell_type": "markdown",
      "source": [
        "Q13 What is the relationship between Z-test and T-test in hypothesis testing\n",
        "\n",
        "Ans-> Z-tests and t-tests are both used in hypothesis testing to compare means, but they differ primarily in their assumptions about sample size and population standard deviation: Z-tests are used for large samples (n > 30) and known population standard deviation, while t-tests are for smaller samples (n < 30) or unknown population standard deviation"
      ],
      "metadata": {
        "id": "Ic8t6aXwayY4"
      }
    },
    {
      "cell_type": "markdown",
      "source": [
        "Q14 What is a confidence interval, and how is it used to interpret statistical results\n",
        "\n",
        "Ans-> A confidence interval, in statistics, refers to the probability that a population parameter will fall between a set of values for a certain proportion of times. We often use confidence intervals that contain either 95% or 99% of expected observations."
      ],
      "metadata": {
        "id": "HCmYP-4FayWi"
      }
    },
    {
      "cell_type": "markdown",
      "source": [
        "Q15 What is the margin of error, and how does it affect the confidence interval\n",
        "\n",
        "Ans-> The margin of error quantifies the potential difference between a sample statistic and the true population parameter, and it's directly related to the confidence interval. A smaller MOE leads to a narrower CI, indicating a more precise estimate"
      ],
      "metadata": {
        "id": "tQ5_MBOVayT-"
      }
    },
    {
      "cell_type": "markdown",
      "source": [
        "Q16  How is Bayes' Theorem used in statistics, and what is its significance\n",
        "\n",
        "Ans-> Bayes’ theorem describes the probability of occurrence of an event related to any condition. It is also considered for the case of conditional probability\n",
        "\n",
        "Bayes' theorem is a mathematical formula that helps you calculate conditional probabilities and update predictions."
      ],
      "metadata": {
        "id": "R3q6UDHrayRq"
      }
    },
    {
      "cell_type": "markdown",
      "source": [
        "Q17 What is the Chi-square distribution, and when is it used\n",
        "\n",
        "Ans-> It is a probablity distribution that describes distribution of sumof squares of k random variables.\n",
        "\n",
        "chi-square test is used to analyze categorical data and determine if there's a statistically significant relationship between two or more categorical variables or if observed data significantly deviates from expected data"
      ],
      "metadata": {
        "id": "vrrqKD_2ayPF"
      }
    },
    {
      "cell_type": "markdown",
      "source": [
        "Q18 What is the Chi-square goodness of fit test, and how is it applied\n",
        "\n",
        "Ans-> The Chi-square goodness of fit test is a statistical hypothesis test used to determine whether a variable is likely to come from a specified distribution or not\n",
        "\n",
        "It is applied by using the observed and expected value and squaring the difference between them. After that it is divided by expected value\n"
      ],
      "metadata": {
        "id": "4rV7PpiyayMb"
      }
    },
    {
      "cell_type": "markdown",
      "source": [
        "Q19 What is the F-distribution, and when is it used in hypothesis testing\n",
        "\n",
        "Ans-> The F-distribution is a continuous probability distribution used in hypothesis testing, particularly in ANOVA and F-tests, to compare variances or multiple means, and determine if observed differences between sample means are statistically significant.\n",
        "\n",
        "\n"
      ],
      "metadata": {
        "id": "hbr3BmUaayJk"
      }
    },
    {
      "cell_type": "markdown",
      "source": [
        "Q20 What is an ANOVA test, and what are its assumptions\n",
        "\n",
        "Ans-> It is a statistical method used to compare the means of 2 or more groups\n",
        "\n",
        "Assumption\n",
        "\n",
        "The population from which the sample is drawn is normally distributed\n",
        "\n",
        "sample should be independent of each other\n",
        "\n",
        "no outliers\n",
        "\n",
        "homogenity of variables"
      ],
      "metadata": {
        "id": "yn3oE4H8ayHJ"
      }
    },
    {
      "cell_type": "markdown",
      "source": [
        "Q21 What are the different types of ANOVA tests\n",
        "\n",
        "Ans-> There are different types of ANOVA based on the design of the study:\n",
        "\n",
        "1. One-Way ANOVA\n",
        "This term is used when one independent variable (factor) contains three or more levels or groups.\n",
        "\n",
        "2. Two-Way ANOVA\n",
        "Involves two independent variables (factors) and is used when two main effects and interactions exist between them.\n",
        "\n",
        "3. Factorial ANOVA\n",
        "An extension of the two-way ANOVA that includes multiple factors with different levels\n",
        "\n",
        "4. Repeated Measures ANOVA"
      ],
      "metadata": {
        "id": "4D22NtUchcAL"
      }
    },
    {
      "cell_type": "markdown",
      "source": [
        "Q22 What is the F-test, and how does it relate to hypothesis testing\n",
        "\n",
        " Ans-> F test is a statistical test that is used in hypothesis testing to check whether the variances of two populations or two samples are equal or not. In an f test, the data follows an f distribution. This test uses the f statistic to compare two variances by dividing them."
      ],
      "metadata": {
        "id": "51SJcoZ7hc-2"
      }
    },
    {
      "cell_type": "markdown",
      "source": [
        "## Practical"
      ],
      "metadata": {
        "id": "VxGQOJvuhc3h"
      }
    },
    {
      "cell_type": "code",
      "source": [
        "import math\n",
        "import numpy as np\n",
        "import pandas as pd\n",
        "from scipy import stats\n",
        "import seaborn as sns\n",
        "import matplotlib.pyplot as plt\n",
        "import warnings\n",
        "warnings.filterwarnings(\"ignore\")"
      ],
      "metadata": {
        "id": "36cjK-7Uj9QO"
      },
      "execution_count": 14,
      "outputs": []
    },
    {
      "cell_type": "code",
      "execution_count": 6,
      "metadata": {
        "id": "X5LCcPjtT7uJ",
        "colab": {
          "base_uri": "https://localhost:8080/"
        },
        "outputId": "b4ec6111-2762-48ae-d25c-2c5b490da44b"
      },
      "outputs": [
        {
          "output_type": "stream",
          "name": "stdout",
          "text": [
            "Null hypothesis is accepted!\n"
          ]
        }
      ],
      "source": [
        "#Q1 Write a Python program to perform a Z-test for comparing a sample mean to a known population mean and interpret the results\n",
        "\n",
        "sample_marks = [350,630,510,870,480,820,690,530,490,620,710,670,600,780,660,490,800,610,510,500]\n",
        "\n",
        "sample_mean = np.mean(sample_marks)\n",
        "sample_size = np.count_nonzero(sample_marks)\n",
        "population_mean = 600\n",
        "population_std = 100\n",
        "alpha = 0.05\n",
        "z_score = (sample_mean-population_mean)/(population_std/np.sqrt(sample_size))\n",
        "critical_value = 1.645 # from z table\n",
        "if(z_score<critical_value):\n",
        "    print('Null hypothesis is accepted!')\n",
        "else:\n",
        "    print('Null hypothesis is rejected. \\nAlternate hypothesis is accepted!')\n",
        ""
      ]
    },
    {
      "cell_type": "code",
      "source": [
        "#Q2 Simulate random data to perform hypothesis testing and calculate the corresponding P-value using Python\n",
        "\n",
        "aa=np.random.normal(1,2,1000)\n",
        "res =stats.ttest_1samp(aa,popmean=1)\n",
        "\n",
        "print(res)"
      ],
      "metadata": {
        "colab": {
          "base_uri": "https://localhost:8080/"
        },
        "id": "x387NNNCcroh",
        "outputId": "305b3ddd-72a3-4f8e-d349-d07181c98b18"
      },
      "execution_count": 16,
      "outputs": [
        {
          "output_type": "stream",
          "name": "stdout",
          "text": [
            "TtestResult(statistic=np.float64(0.567558595092935), pvalue=np.float64(0.5704622483420208), df=np.int64(999))\n"
          ]
        }
      ]
    },
    {
      "cell_type": "code",
      "source": [
        "#Q3 Implement a one-sample Z-test using Python to compare the sample mean with the population mean\n",
        "\n",
        "from statsmodels.stats.weightstats import ztest as ztest\n",
        "\n",
        "data = [88, 92, 94, 94, 96, 97, 97, 97, 99, 99,\n",
        "        105, 109, 109, 109, 110, 112, 112, 113, 114, 115]\n",
        "\n",
        "ztest(data, value=100)"
      ],
      "metadata": {
        "colab": {
          "base_uri": "https://localhost:8080/"
        },
        "id": "qkWPw9Zocrk_",
        "outputId": "7d7e5866-a2dd-4c66-8a32-39c6379e3323"
      },
      "execution_count": 17,
      "outputs": [
        {
          "output_type": "execute_result",
          "data": {
            "text/plain": [
              "(np.float64(1.5976240527147705), np.float64(0.1101266701438426))"
            ]
          },
          "metadata": {},
          "execution_count": 17
        }
      ]
    },
    {
      "cell_type": "code",
      "source": [
        "#Q4 Perform a two-tailed Z-test using Python and visualize the decision region on a plot\n",
        "\n",
        "x = 10\n",
        "n = 100\n",
        "p = 0.5\n",
        "\n",
        "\n",
        "p_hat = x/n\n",
        "\n",
        "\n",
        "print((p_hat-p)/(math.sqrt((p*(1-p))/(n))))\n"
      ],
      "metadata": {
        "colab": {
          "base_uri": "https://localhost:8080/"
        },
        "id": "PjidzvSRcriu",
        "outputId": "e65af340-e912-45a4-c6fd-3929ca47b90f"
      },
      "execution_count": 20,
      "outputs": [
        {
          "output_type": "stream",
          "name": "stdout",
          "text": [
            "-8.0\n"
          ]
        }
      ]
    },
    {
      "cell_type": "code",
      "source": [
        "#Q5 Create a Python function that calculates and visualizes Type 1 and Type 2 errors during hypothesis testing\n",
        "\n",
        "population_mean = 100\n",
        "sample_size = 30\n",
        "alpha = 0.05\n",
        "\n",
        "null_data = np.random.normal(population_mean, 10, sample_size)\n",
        "\n",
        "alternative_data = np.random.normal(105, 10, sample_size)\n",
        "\n",
        "t_stat_null, p_value_null = stats.ttest_1samp(null_data, population_mean)\n",
        "t_stat_alt, p_value_alt = stats.ttest_1samp(alternative_data, population_mean)\n",
        "\n",
        "print(\"For Null Hypothesis (H0 is true):\")\n",
        "print(f\"T-statistic: {t_stat_null}, P-value: {p_value_null}\")\n",
        "if p_value_null < alpha:\n",
        "    print(\"Decision: Reject the null hypothesis (Type 1 error if H0 is true)\\n\")\n",
        "else:\n",
        "    print(\"Decision: Fail to reject the null hypothesis\\n\")\n",
        "\n",
        "print(\"For Alternative Hypothesis (H1 is true):\")\n",
        "print(f\"T-statistic: {t_stat_alt}, P-value: {p_value_alt}\")\n",
        "if p_value_alt < alpha:\n",
        "    print(\"Decision: Reject the null hypothesis (Correct decision)\\n\")\n",
        "else:\n",
        "    print(\"Decision: Fail to reject the null hypothesis (Type 2 error if H1 is true)\\n\")\n",
        "\n"
      ],
      "metadata": {
        "colab": {
          "base_uri": "https://localhost:8080/"
        },
        "id": "fpSfqXDzcrgi",
        "outputId": "243f5733-085c-4d52-f437-d009d59477fd"
      },
      "execution_count": 22,
      "outputs": [
        {
          "output_type": "stream",
          "name": "stdout",
          "text": [
            "For Null Hypothesis (H0 is true):\n",
            "T-statistic: -0.7625787268682628, P-value: 0.45187323648775646\n",
            "Decision: Fail to reject the null hypothesis\n",
            "\n",
            "For Alternative Hypothesis (H1 is true):\n",
            "T-statistic: 4.846323513989407, P-value: 3.887985628687877e-05\n",
            "Decision: Reject the null hypothesis (Correct decision)\n",
            "\n"
          ]
        }
      ]
    },
    {
      "cell_type": "code",
      "source": [
        "#Q6 Write a Python program to perform an independent T-test and interpret the results\n",
        "\n",
        "data_group1 = np.array([14, 15, 15, 16, 13, 8, 14,\n",
        "                        17, 16, 14, 19, 20, 21, 15,\n",
        "                        15, 16, 16, 13, 14, 12])\n",
        "\n",
        "data_group2 = np.array([15, 17, 14, 17, 14, 8, 12,\n",
        "                        19, 19, 14, 17, 22, 24, 16,\n",
        "                        13, 16, 13, 18, 15, 13])\n",
        "\n",
        "stats.ttest_ind(a=data_group1, b=data_group2, equal_var=True)"
      ],
      "metadata": {
        "colab": {
          "base_uri": "https://localhost:8080/"
        },
        "id": "WFXIElJvcrdK",
        "outputId": "17d1a436-d49e-4d5f-fd0f-88d7a17f2058"
      },
      "execution_count": 23,
      "outputs": [
        {
          "output_type": "execute_result",
          "data": {
            "text/plain": [
              "TtestResult(statistic=np.float64(-0.6337397070250238), pvalue=np.float64(0.5300471010405257), df=np.float64(38.0))"
            ]
          },
          "metadata": {},
          "execution_count": 23
        }
      ]
    },
    {
      "cell_type": "code",
      "source": [
        "#Q7  Perform a paired sample T-test using Python and visualize the comparison results\n",
        "\n",
        "H1 = [30, 31, 34, 40, 36, 35,\n",
        "       34, 30, 28, 29]\n",
        "\n",
        "H2 = [30, 31, 32, 38, 32, 31,\n",
        "        32, 29, 28, 30]\n",
        "\n",
        "\n",
        "stats.ttest_rel(H1,H2)"
      ],
      "metadata": {
        "colab": {
          "base_uri": "https://localhost:8080/"
        },
        "id": "ZRfsM_mOcrZv",
        "outputId": "b0e1ea9a-b13a-4e09-99c2-addf911b85dc"
      },
      "execution_count": 24,
      "outputs": [
        {
          "output_type": "execute_result",
          "data": {
            "text/plain": [
              "TtestResult(statistic=np.float64(2.584921310565987), pvalue=np.float64(0.029457853822895275), df=np.int64(9))"
            ]
          },
          "metadata": {},
          "execution_count": 24
        }
      ]
    },
    {
      "cell_type": "code",
      "source": [
        "#Q8 Simulate data and perform both Z-test and T-test, then compare the results using Python\n",
        "from statsmodels.stats.weightstats import ztest as ztest\n",
        "ad=np.random.normal(1,2,30)\n",
        "ad\n",
        "\n",
        "print(stats.ttest_1samp(ad,popmean=10))\n",
        "print(ztest(ad,value=0))"
      ],
      "metadata": {
        "colab": {
          "base_uri": "https://localhost:8080/"
        },
        "id": "Q8fdZOjicrWD",
        "outputId": "1a043d1f-1ca1-4d7b-95c5-85cd20264463"
      },
      "execution_count": 29,
      "outputs": [
        {
          "output_type": "stream",
          "name": "stdout",
          "text": [
            "TtestResult(statistic=np.float64(-23.094487502430663), pvalue=np.float64(3.2162529374914714e-20), df=np.int64(29))\n",
            "(np.float64(3.670272406183783), np.float64(0.0002422921203505686))\n"
          ]
        }
      ]
    },
    {
      "cell_type": "code",
      "source": [
        "#Q9 Write a Python function to calculate the confidence interval for a sample mean and explain its significance\n",
        "\n",
        "sample_mean = 200\n",
        "sample_std_dev = 20\n",
        "sample_size = 16\n",
        "confidence_level = 0.95\n",
        "\n",
        "df = sample_size - 1\n",
        "\n",
        "alpha = (1 - confidence_level) / 2\n",
        "\n",
        "t_value = stats.t.ppf(1 - alpha, df)\n",
        "\n",
        "margin_of_error = t_value * (sample_std_dev / math.sqrt(sample_size))\n",
        "\n",
        "lower_limit = sample_mean - margin_of_error\n",
        "upper_limit = sample_mean + margin_of_error\n",
        "\n",
        "print(f\"Confidence Interval: ({lower_limit}, {upper_limit})\")"
      ],
      "metadata": {
        "colab": {
          "base_uri": "https://localhost:8080/"
        },
        "id": "n7CZejuvcrSt",
        "outputId": "4d569421-7366-488d-f4ab-9f2b63699d74"
      },
      "execution_count": 33,
      "outputs": [
        {
          "output_type": "stream",
          "name": "stdout",
          "text": [
            "Confidence Interval: (189.34275227220337, 210.65724772779663)\n"
          ]
        }
      ]
    },
    {
      "cell_type": "code",
      "source": [
        "#Q10 Write a Python program to calculate the margin of error for a given confidence level using sample data\n",
        "\n",
        "\n",
        "sample = np.random.normal(loc=100, scale=15, size=100)\n",
        "\n",
        "sample_mean = np.mean(sample)\n",
        "standard_error = np.std(sample, ddof=1) / np.sqrt(len(sample))\n",
        "\n",
        "# 95% confidence interval\n",
        "confidence_level = 0.95\n",
        "degrees_freedom = len(sample) - 1\n",
        "t_value = np.abs(np.random.standard_t(degrees_freedom, size=1000000))\n",
        "margin_of_error = np.percentile(t_value, confidence_level * 100) * standard_error\n",
        "print(margin_of_error)"
      ],
      "metadata": {
        "colab": {
          "base_uri": "https://localhost:8080/"
        },
        "id": "1iSFNm-3crQl",
        "outputId": "e97d877e-c69b-47d2-9d8e-8b22a423992c"
      },
      "execution_count": 35,
      "outputs": [
        {
          "output_type": "stream",
          "name": "stdout",
          "text": [
            "2.9299414409349724\n"
          ]
        }
      ]
    },
    {
      "cell_type": "code",
      "source": [
        "#Q11 Implement a Bayesian inference method using Bayes' Theorem in Python and explain the process\n",
        "\n"
      ],
      "metadata": {
        "id": "ixoy6QyTcrL4"
      },
      "execution_count": null,
      "outputs": []
    },
    {
      "cell_type": "code",
      "source": [
        "#Q12 Perform a Chi-square test for independence between two categorical variables in Python\n",
        "\n",
        "data = {'variable1': ['A', 'A', 'B', 'B', 'A', 'B'],\n",
        "        'variable2': ['X', 'Y', 'X', 'Y', 'X', 'Y']}\n",
        "df = pd.DataFrame(data)\n",
        "\n",
        "contingency_table = pd.crosstab(df['variable1'], df['variable2'])\n",
        "\n",
        "\n",
        "\n",
        "chi2_stat, p_value, dof, expected = stats.chi2_contingency(contingency_table)\n",
        "\n",
        "print(\"\\nChi-Square Statistic:\", chi2_stat)\n",
        "print(\"P-value:\", p_value)\n",
        "print(\"Degrees of Freedom:\", dof)\n",
        "\n",
        "# Interpret the results\n",
        "alpha = 0.05  # Significance level\n",
        "if p_value < alpha:\n",
        "    print(\"\\nReject the null hypothesis: There is a significant relationship between the variables.\")\n",
        "else:\n",
        "    print(\"\\nFail to reject the null hypothesis: There is no significant relationship between the variables.\")\n"
      ],
      "metadata": {
        "colab": {
          "base_uri": "https://localhost:8080/"
        },
        "id": "Vv-284CdcrG5",
        "outputId": "6739dc14-5bcb-48a0-95d2-89b52547f111"
      },
      "execution_count": 37,
      "outputs": [
        {
          "output_type": "stream",
          "name": "stdout",
          "text": [
            "\n",
            "Chi-Square Statistic: 0.0\n",
            "P-value: 1.0\n",
            "Degrees of Freedom: 1\n",
            "\n",
            "Fail to reject the null hypothesis: There is no significant relationship between the variables.\n"
          ]
        }
      ]
    },
    {
      "cell_type": "code",
      "source": [
        "#Q13 Write a Python program to calculate the expected frequencies for a Chi-square test based on observed data\n",
        "\n",
        "data1 = {'variable1': ['A', 'A', 'X', 'A', 'B', 'B'],\n",
        "        'variable2': ['X', 'Y', 'A', 'Y', 'X', 'Y']}\n",
        "df1 = pd.DataFrame(data)\n",
        "\n",
        "\n",
        "contingency_table1 = pd.crosstab(df1['variable1'], df1['variable2'])\n",
        "\n",
        "\n",
        "\n",
        "chi2_stat, p_value, dof, expected = stats.chi2_contingency(contingency_table1)\n",
        "\n",
        "\n",
        "print(\"Expected Frequencies:\\n\", expected)"
      ],
      "metadata": {
        "colab": {
          "base_uri": "https://localhost:8080/"
        },
        "id": "wuwR_GhpcrB_",
        "outputId": "67532bbc-e5bd-41cc-f0b0-cbb5774c83b8"
      },
      "execution_count": 41,
      "outputs": [
        {
          "output_type": "stream",
          "name": "stdout",
          "text": [
            "Expected Frequencies:\n",
            " [[1.5 1.5]\n",
            " [1.5 1.5]]\n"
          ]
        }
      ]
    },
    {
      "cell_type": "code",
      "source": [
        "#Q14 Perform a goodness-of-fit test using Python to compare the observed data to an expected distribution\n",
        "\n",
        "observed_data = [8, 6, 10, 7, 8, 11, 9]\n",
        "expected_data = [9, 8, 11, 8, 10, 7, 6]\n",
        "\n",
        "chi_square_test_statistic, p_value = stats.chisquare(\n",
        "    observed_data, expected_data)\n",
        "\n",
        "print('chi_square_test_statistic is : ', chi_square_test_statistic)\n",
        "print('p_value',  p_value)"
      ],
      "metadata": {
        "colab": {
          "base_uri": "https://localhost:8080/"
        },
        "id": "yQd651kpcq07",
        "outputId": "53354ffe-f64d-4009-ea16-e66761ee460a"
      },
      "execution_count": 47,
      "outputs": [
        {
          "output_type": "stream",
          "name": "stdout",
          "text": [
            "chi_square_test_statistic is :  5.0127344877344875\n",
            "p_value 0.542180861413329\n"
          ]
        }
      ]
    },
    {
      "cell_type": "code",
      "source": [
        "#Q15 Create a Python script to simulate and visualize the Chi-square distribution and discuss its characteristics\n",
        "\n",
        "CH=np.random.chisquare(df=30,size=1000)\n",
        "\n",
        "plt.hist(CH)"
      ],
      "metadata": {
        "colab": {
          "base_uri": "https://localhost:8080/",
          "height": 517
        },
        "id": "9O8oHlirUYSG",
        "outputId": "58fb379b-9a0b-4a69-d7d0-2d11c1552688"
      },
      "execution_count": 49,
      "outputs": [
        {
          "output_type": "execute_result",
          "data": {
            "text/plain": [
              "(array([  7.,  68., 194., 264., 250., 135.,  51.,  24.,   5.,   2.]),\n",
              " array([ 8.8375488 , 14.16330216, 19.48905552, 24.81480888, 30.14056224,\n",
              "        35.4663156 , 40.79206896, 46.11782232, 51.44357568, 56.76932904,\n",
              "        62.0950824 ]),\n",
              " <BarContainer object of 10 artists>)"
            ]
          },
          "metadata": {},
          "execution_count": 49
        },
        {
          "output_type": "display_data",
          "data": {
            "text/plain": [
              "<Figure size 640x480 with 1 Axes>"
            ],
            "image/png": "[encoded data removed]"
          },
          "metadata": {}
        }
      ]
    },
    {
      "cell_type": "code",
      "source": [
        "#Q16 Implement an F-test using Python to compare the variances of two random samples\n",
        "\n",
        "group1 = np.random.rand(25)\n",
        "group2 = np.random.rand(20)\n",
        "\n",
        "variance1 = np.var(group1, ddof=1)\n",
        "variance2 = np.var(group2, ddof=1)\n",
        "\n",
        "f_value = variance1 / variance2\n",
        "\n",
        "df1 = len(group1) - 1\n",
        "df2 = len(group2) - 1\n",
        "p_value = stats.f.cdf(f_value, df1, df2)\n",
        "\n",
        "print(\"F-statistic:\", f_value)\n",
        "print(\"p-value:\", p_value)"
      ],
      "metadata": {
        "colab": {
          "base_uri": "https://localhost:8080/"
        },
        "id": "ruMJeK6nVzZr",
        "outputId": "963d9d1f-121d-480a-d0fe-d8f9f6b97c93"
      },
      "execution_count": 50,
      "outputs": [
        {
          "output_type": "stream",
          "name": "stdout",
          "text": [
            "F-statistic: 1.0775135588949885\n",
            "p-value: 0.5606839642149679\n"
          ]
        }
      ]
    },
    {
      "cell_type": "code",
      "source": [
        "#Q17 Write a Python program to perform an ANOVA test to compare means between multiple groups and interpret the results\n",
        "\n",
        "p1 = [89, 89, 88, 78, 79]\n",
        "p2 = [93, 92, 94, 89, 88]\n",
        "p3 = [89, 88, 89, 93, 90]\n",
        "p4 = [81, 78, 81, 92, 82]\n",
        "\n",
        "\n",
        "stats.f_oneway(p1, p2, p3, p4)"
      ],
      "metadata": {
        "colab": {
          "base_uri": "https://localhost:8080/"
        },
        "id": "uUBOR1igWSKM",
        "outputId": "1b2e716e-3883-4187-d918-4d4e68deb159"
      },
      "execution_count": 52,
      "outputs": [
        {
          "output_type": "execute_result",
          "data": {
            "text/plain": [
              "F_onewayResult(statistic=np.float64(4.625000000000002), pvalue=np.float64(0.016336459839780215))"
            ]
          },
          "metadata": {},
          "execution_count": 52
        }
      ]
    },
    {
      "cell_type": "code",
      "source": [
        "#Q18 Perform a one-way ANOVA test using Python to compare the means of different groups and plot the results\n"
      ],
      "metadata": {
        "id": "JY9eAAJBXk8q"
      },
      "execution_count": null,
      "outputs": []
    },
    {
      "cell_type": "code",
      "source": [
        "#Q19 Write a Python function to check the assumptions (normality, independence, and equal variance) for ANOVA\n",
        "\n",
        "s1=[2,3,5,7,8]\n",
        "s2=[4,6,2,5,7]\n",
        "\n",
        "v1=np.var(s1)\n",
        "v2=np.var(s2)\n",
        "\n",
        "if v1==v2:\n",
        "  print(\"equal Variance\")\n",
        "else:\n",
        "  print(\"unequal variance\")"
      ],
      "metadata": {
        "colab": {
          "base_uri": "https://localhost:8080/"
        },
        "id": "6kw-DdQDiRnQ",
        "outputId": "81e86a3e-d012-4d34-b2f1-4c99d6581465"
      },
      "execution_count": 55,
      "outputs": [
        {
          "output_type": "stream",
          "name": "stdout",
          "text": [
            "unequal variance\n"
          ]
        }
      ]
    },
    {
      "cell_type": "code",
      "source": [
        "#Q20 Perform a two-way ANOVA test using Python to study the interaction between two factors and visualize the results\n",
        "\n",
        "import statsmodels.api as sm\n",
        "from statsmodels.formula.api import ols\n",
        "\n",
        "df = pd.DataFrame({'water': np.repeat(['daily', 'weekly'], 15),\n",
        "                   'sun': np.tile(np.repeat(['low', 'med', 'high'], 5), 2),\n",
        "                   'height': [6, 6, 6, 5, 6, 5, 5, 6, 4, 5,\n",
        "                              6, 6, 7, 8, 7, 3, 4, 4, 4, 5,\n",
        "                              1, 2, 4, 3, 4, 5, 5, 5, 7, 6]})\n",
        "\n",
        "model = ols('height ~ C(water) + C(sun) + C(water):C(sun)', data=df).fit()\n",
        "sm.stats.anova_lm(model, typ=2)"
      ],
      "metadata": {
        "colab": {
          "base_uri": "https://localhost:8080/",
          "height": 175
        },
        "id": "zf3xrYrz6mXk",
        "outputId": "33b4d378-aeb7-4543-84c9-3571b184eceb"
      },
      "execution_count": 57,
      "outputs": [
        {
          "output_type": "execute_result",
          "data": {
            "text/plain": [
              "                    sum_sq    df          F    PR(>F)\n",
              "C(water)         22.533333   1.0  30.727273  0.000011\n",
              "C(sun)           26.600000   2.0  18.136364  0.000016\n",
              "C(water):C(sun)   1.266667   2.0   0.863636  0.434320\n",
              "Residual         17.600000  24.0        NaN       NaN"
            ],
            "text/html": [
              "\n",
              "  <div id=\"df-5b868cae-e4fc-4463-927d-87e976641c2c\" class=\"colab-df-container\">\n",
              "    <div>\n",
              "<style scoped>\n",
              "    .dataframe tbody tr th:only-of-type {\n",
              "        vertical-align: middle;\n",
              "    }\n",
              "\n",
              "    .dataframe tbody tr th {\n",
              "        vertical-align: top;\n",
              "    }\n",
              "\n",
              "    .dataframe thead th {\n",
              "        text-align: right;\n",
              "    }\n",
              "</style>\n",
              "<table border=\"1\" class=\"dataframe\">\n",
              "  <thead>\n",
              "    <tr style=\"text-align: right;\">\n",
              "      <th></th>\n",
              "      <th>sum_sq</th>\n",
              "      <th>df</th>\n",
              "      <th>F</th>\n",
              "      <th>PR(&gt;F)</th>\n",
              "    </tr>\n",
              "  </thead>\n",
              "  <tbody>\n",
              "    <tr>\n",
              "      <th>C(water)</th>\n",
              "      <td>22.533333</td>\n",
              "      <td>1.0</td>\n",
              "      <td>30.727273</td>\n",
              "      <td>0.000011</td>\n",
              "    </tr>\n",
              "    <tr>\n",
              "      <th>C(sun)</th>\n",
              "      <td>26.600000</td>\n",
              "      <td>2.0</td>\n",
              "      <td>18.136364</td>\n",
              "      <td>0.000016</td>\n",
              "    </tr>\n",
              "    <tr>\n",
              "      <th>C(water):C(sun)</th>\n",
              "      <td>1.266667</td>\n",
              "      <td>2.0</td>\n",
              "      <td>0.863636</td>\n",
              "      <td>0.434320</td>\n",
              "    </tr>\n",
              "    <tr>\n",
              "      <th>Residual</th>\n",
              "      <td>17.600000</td>\n",
              "      <td>24.0</td>\n",
              "      <td>NaN</td>\n",
              "      <td>NaN</td>\n",
              "    </tr>\n",
              "  </tbody>\n",
              "</table>\n",
              "</div>\n",
              "    <div class=\"colab-df-buttons\">\n",
              "\n",
              "  <div class=\"colab-df-container\">\n",
              "    <button class=\"colab-df-convert\" onclick=\"convertToInteractive('df-5b868cae-e4fc-4463-927d-87e976641c2c')\"\n",
              "            title=\"Convert this dataframe to an interactive table.\"\n",
              "            style=\"display:none;\">\n",
              "\n",
              "  <svg xmlns=\"http://www.w3.org/2000/svg\" height=\"24px\" viewBox=\"0 -960 960 960\">\n",
              "    <path d=\"M120-120v-720h720v720H120Zm60-500h600v-160H180v160Zm220 220h160v-160H400v160Zm0 220h160v-160H400v160ZM180-400h160v-160H180v160Zm440 0h160v-160H620v160ZM180-180h160v-160H180v160Zm440 0h160v-160H620v160Z\"/>\n",
              "  </svg>\n",
              "    </button>\n",
              "\n",
              "  <style>\n",
              "    .colab-df-container {\n",
              "      display:flex;\n",
              "      gap: 12px;\n",
              "    }\n",
              "\n",
              "    .colab-df-convert {\n",
              "      background-color: #E8F0FE;\n",
              "      border: none;\n",
              "      border-radius: 50%;\n",
              "      cursor: pointer;\n",
              "      display: none;\n",
              "      fill: #1967D2;\n",
              "      height: 32px;\n",
              "      padding: 0 0 0 0;\n",
              "      width: 32px;\n",
              "    }\n",
              "\n",
              "    .colab-df-convert:hover {\n",
              "      background-color: #E2EBFA;\n",
              "      box-shadow: 0px 1px 2px rgba(60, 64, 67, 0.3), 0px 1px 3px 1px rgba(60, 64, 67, 0.15);\n",
              "      fill: #174EA6;\n",
              "    }\n",
              "\n",
              "    .colab-df-buttons div {\n",
              "      margin-bottom: 4px;\n",
              "    }\n",
              "\n",
              "    [theme=dark] .colab-df-convert {\n",
              "      background-color: #3B4455;\n",
              "      fill: #D2E3FC;\n",
              "    }\n",
              "\n",
              "    [theme=dark] .colab-df-convert:hover {\n",
              "      background-color: #434B5C;\n",
              "      box-shadow: 0px 1px 3px 1px rgba(0, 0, 0, 0.15);\n",
              "      filter: drop-shadow(0px 1px 2px rgba(0, 0, 0, 0.3));\n",
              "      fill: #FFFFFF;\n",
              "    }\n",
              "  </style>\n",
              "\n",
              "    <script>\n",
              "      const buttonEl =\n",
              "        document.querySelector('#df-5b868cae-e4fc-4463-927d-87e976641c2c button.colab-df-convert');\n",
              "      buttonEl.style.display =\n",
              "        google.colab.kernel.accessAllowed ? 'block' : 'none';\n",
              "\n",
              "      async function convertToInteractive(key) {\n",
              "        const element = document.querySelector('#df-5b868cae-e4fc-4463-927d-87e976641c2c');\n",
              "        const dataTable =\n",
              "          await google.colab.kernel.invokeFunction('convertToInteractive',\n",
              "                                                    [key], {});\n",
              "        if (!dataTable) return;\n",
              "\n",
              "        const docLinkHtml = 'Like what you see? Visit the ' +\n",
              "          '<a target=\"_blank\" href=https://colab.research.google.com/notebooks/data_table.ipynb>data table notebook</a>'\n",
              "          + ' to learn more about interactive tables.';\n",
              "        element.innerHTML = '';\n",
              "        dataTable['output_type'] = 'display_data';\n",
              "        await google.colab.output.renderOutput(dataTable, element);\n",
              "        const docLink = document.createElement('div');\n",
              "        docLink.innerHTML = docLinkHtml;\n",
              "        element.appendChild(docLink);\n",
              "      }\n",
              "    </script>\n",
              "  </div>\n",
              "\n",
              "\n",
              "<div id=\"df-9c73a90e-61c0-45a9-ab93-320fd6ae97e5\">\n",
              "  <button class=\"colab-df-quickchart\" onclick=\"quickchart('df-9c73a90e-61c0-45a9-ab93-320fd6ae97e5')\"\n",
              "            title=\"Suggest charts\"\n",
              "            style=\"display:none;\">\n",
              "\n",
              "<svg xmlns=\"http://www.w3.org/2000/svg\" height=\"24px\"viewBox=\"0 0 24 24\"\n",
              "     width=\"24px\">\n",
              "    <g>\n",
              "        <path d=\"M19 3H5c-1.1 0-2 .9-2 2v14c0 1.1.9 2 2 2h14c1.1 0 2-.9 2-2V5c0-1.1-.9-2-2-2zM9 17H7v-7h2v7zm4 0h-2V7h2v10zm4 0h-2v-4h2v4z\"/>\n",
              "    </g>\n",
              "</svg>\n",
              "  </button>\n",
              "\n",
              "<style>\n",
              "  .colab-df-quickchart {\n",
              "      --bg-color: #E8F0FE;\n",
              "      --fill-color: #1967D2;\n",
              "      --hover-bg-color: #E2EBFA;\n",
              "      --hover-fill-color: #174EA6;\n",
              "      --disabled-fill-color: #AAA;\n",
              "      --disabled-bg-color: #DDD;\n",
              "  }\n",
              "\n",
              "  [theme=dark] .colab-df-quickchart {\n",
              "      --bg-color: #3B4455;\n",
              "      --fill-color: #D2E3FC;\n",
              "      --hover-bg-color: #434B5C;\n",
              "      --hover-fill-color: #FFFFFF;\n",
              "      --disabled-bg-color: #3B4455;\n",
              "      --disabled-fill-color: #666;\n",
              "  }\n",
              "\n",
              "  .colab-df-quickchart {\n",
              "    background-color: var(--bg-color);\n",
              "    border: none;\n",
              "    border-radius: 50%;\n",
              "    cursor: pointer;\n",
              "    display: none;\n",
              "    fill: var(--fill-color);\n",
              "    height: 32px;\n",
              "    padding: 0;\n",
              "    width: 32px;\n",
              "  }\n",
              "\n",
              "  .colab-df-quickchart:hover {\n",
              "    background-color: var(--hover-bg-color);\n",
              "    box-shadow: 0 1px 2px rgba(60, 64, 67, 0.3), 0 1px 3px 1px rgba(60, 64, 67, 0.15);\n",
              "    fill: var(--button-hover-fill-color);\n",
              "  }\n",
              "\n",
              "  .colab-df-quickchart-complete:disabled,\n",
              "  .colab-df-quickchart-complete:disabled:hover {\n",
              "    background-color: var(--disabled-bg-color);\n",
              "    fill: var(--disabled-fill-color);\n",
              "    box-shadow: none;\n",
              "  }\n",
              "\n",
              "  .colab-df-spinner {\n",
              "    border: 2px solid var(--fill-color);\n",
              "    border-color: transparent;\n",
              "    border-bottom-color: var(--fill-color);\n",
              "    animation:\n",
              "      spin 1s steps(1) infinite;\n",
              "  }\n",
              "\n",
              "  @keyframes spin {\n",
              "    0% {\n",
              "      border-color: transparent;\n",
              "      border-bottom-color: var(--fill-color);\n",
              "      border-left-color: var(--fill-color);\n",
              "    }\n",
              "    20% {\n",
              "      border-color: transparent;\n",
              "      border-left-color: var(--fill-color);\n",
              "      border-top-color: var(--fill-color);\n",
              "    }\n",
              "    30% {\n",
              "      border-color: transparent;\n",
              "      border-left-color: var(--fill-color);\n",
              "      border-top-color: var(--fill-color);\n",
              "      border-right-color: var(--fill-color);\n",
              "    }\n",
              "    40% {\n",
              "      border-color: transparent;\n",
              "      border-right-color: var(--fill-color);\n",
              "      border-top-color: var(--fill-color);\n",
              "    }\n",
              "    60% {\n",
              "      border-color: transparent;\n",
              "      border-right-color: var(--fill-color);\n",
              "    }\n",
              "    80% {\n",
              "      border-color: transparent;\n",
              "      border-right-color: var(--fill-color);\n",
              "      border-bottom-color: var(--fill-color);\n",
              "    }\n",
              "    90% {\n",
              "      border-color: transparent;\n",
              "      border-bottom-color: var(--fill-color);\n",
              "    }\n",
              "  }\n",
              "</style>\n",
              "\n",
              "  <script>\n",
              "    async function quickchart(key) {\n",
              "      const quickchartButtonEl =\n",
              "        document.querySelector('#' + key + ' button');\n",
              "      quickchartButtonEl.disabled = true;  // To prevent multiple clicks.\n",
              "      quickchartButtonEl.classList.add('colab-df-spinner');\n",
              "      try {\n",
              "        const charts = await google.colab.kernel.invokeFunction(\n",
              "            'suggestCharts', [key], {});\n",
              "      } catch (error) {\n",
              "        console.error('Error during call to suggestCharts:', error);\n",
              "      }\n",
              "      quickchartButtonEl.classList.remove('colab-df-spinner');\n",
              "      quickchartButtonEl.classList.add('colab-df-quickchart-complete');\n",
              "    }\n",
              "    (() => {\n",
              "      let quickchartButtonEl =\n",
              "        document.querySelector('#df-9c73a90e-61c0-45a9-ab93-320fd6ae97e5 button');\n",
              "      quickchartButtonEl.style.display =\n",
              "        google.colab.kernel.accessAllowed ? 'block' : 'none';\n",
              "    })();\n",
              "  </script>\n",
              "</div>\n",
              "\n",
              "    </div>\n",
              "  </div>\n"
            ],
            "application/vnd.google.colaboratory.intrinsic+json": {
              "type": "dataframe",
              "summary": "{\n  \"name\": \"sm\",\n  \"rows\": 4,\n  \"fields\": [\n    {\n      \"column\": \"sum_sq\",\n      \"properties\": {\n        \"dtype\": \"number\",\n        \"std\": 11.115687946254946,\n        \"min\": 1.2666666666666544,\n        \"max\": 26.599999999999827,\n        \"num_unique_values\": 4,\n        \"samples\": [\n          26.599999999999827,\n          17.599999999999998,\n          22.53333333333332\n        ],\n        \"semantic_type\": \"\",\n        \"description\": \"\"\n      }\n    },\n    {\n      \"column\": \"df\",\n      \"properties\": {\n        \"dtype\": \"number\",\n        \"std\": 11.176612486199325,\n        \"min\": 1.0,\n        \"max\": 24.0,\n        \"num_unique_values\": 3,\n        \"samples\": [\n          1.0,\n          2.0,\n          24.0\n        ],\n        \"semantic_type\": \"\",\n        \"description\": \"\"\n      }\n    },\n    {\n      \"column\": \"F\",\n      \"properties\": {\n        \"dtype\": \"number\",\n        \"std\": 14.992858722477713,\n        \"min\": 0.8636363636363553,\n        \"max\": 30.727272727272712,\n        \"num_unique_values\": 3,\n        \"samples\": [\n          30.727272727272712,\n          18.136363636363523,\n          0.8636363636363553\n        ],\n        \"semantic_type\": \"\",\n        \"description\": \"\"\n      }\n    },\n    {\n      \"column\": \"PR(>F)\",\n      \"properties\": {\n        \"dtype\": \"number\",\n        \"std\": 0.2507471670309704,\n        \"min\": 1.0580182243722736e-05,\n        \"max\": 0.43432006750284075,\n        \"num_unique_values\": 3,\n        \"samples\": [\n          1.0580182243722736e-05,\n          1.588856889888318e-05,\n          0.43432006750284075\n        ],\n        \"semantic_type\": \"\",\n        \"description\": \"\"\n      }\n    }\n  ]\n}"
            }
          },
          "metadata": {},
          "execution_count": 57
        }
      ]
    },
    {
      "cell_type": "code",
      "source": [
        "#Q21 Write a Python program to visualize the F-distribution and discuss its use in hypothesis testing\n",
        "\n",
        "dfn = 10\n",
        "dfd = 20\n",
        "\n",
        "x = np.linspace(0, 5, 100)\n",
        "\n",
        "y = stats.f.pdf(x, dfn, dfd)\n",
        "\n",
        "plt.plot(x, y, label=f'F-distribution (dfn={dfn}, dfd={dfd})')\n",
        "plt.xlabel('F-statistic')\n",
        "plt.ylabel('Probability Density')\n",
        "plt.title('F-Distribution Visualization')\n",
        "plt.legend()\n",
        "\n",
        "plt.show()"
      ],
      "metadata": {
        "colab": {
          "base_uri": "https://localhost:8080/",
          "height": 472
        },
        "id": "OwIwWZIq7xzG",
        "outputId": "7ca1a490-f4b2-4015-8844-c89868f59745"
      },
      "execution_count": 58,
      "outputs": [
        {
          "output_type": "display_data",
          "data": {
            "text/plain": [
              "<Figure size 640x480 with 1 Axes>"
            ],
            "image/png": "[encoded data removed]"
          },
          "metadata": {}
        }
      ]
    },
    {
      "cell_type": "code",
      "source": [],
      "metadata": {
        "id": "uIGNMqEb8egk"
      },
      "execution_count": null,
      "outputs": []
    }
  ]
}