{
  "nbformat": 4,
  "nbformat_minor": 0,
  "metadata": {
    "colab": {
      "provenance": []
    },
    "kernelspec": {
      "name": "python3",
      "display_name": "Python 3"
    },
    "language_info": {
      "name": "python"
    }
  },
  "cells": [
    {
      "cell_type": "markdown",
      "source": [
        "## Statistics Theoritical"
      ],
      "metadata": {
        "id": "_fqkZ1jL_gAG"
      }
    },
    {
      "cell_type": "markdown",
      "source": [
        "Q1  Explain the different types of data (qualitative and quantitative) and provide examples of each. Discuss nominal, ordinal, interval, and ratio scales.\n",
        "\n",
        "Ans-> Quantitative data are\n",
        "\n",
        "Measures of values or counts and are expressed as numbers.\n",
        "Data about numeric variables (e.g. age, weight).\n",
        "\n",
        "Qualitative data are\n",
        "\n",
        "Measures of 'types' and may be represented by a name, symbol, or a number code.\n",
        "Qualitative data are data about categorical variables (e.g. Gender).\n",
        "\n",
        "Nominal: Data is only categorized, with no inherent order between categories (e.g. color - blue, green, brown).\n",
        "\n",
        "Ordinal: Data can be categorized and ranked, but the intervals between ranks are not necessarily equal (e.g.,sizes - small, medium, large).\n",
        "\n",
        "Interval: Data can be categorized, ranked, and the intervals between values are consistent, but there is no true zero point (e.g., temperature in Celsius).\n",
        "\n",
        "Ratio: Data can be categorized, ranked, intervals are consistent, and there is a true zero point, allowing for calculations of ratios (e.g., height in centimeters)."
      ],
      "metadata": {
        "id": "vKqST1TI_f8V"
      }
    },
    {
      "cell_type": "markdown",
      "source": [
        "Q2 What are the measures of central tendency, and when should you use each? Discuss the mean, median, and mode with examples and situations where each is appropriate.\n",
        "\n",
        " Ans-> A measure of central tendency is a single value that attempts to describe a set of data by identifying the central position within that set of data.\n",
        "\n",
        " Mean-The mean is equal to the sum of all the values in the data set divided by the number of values in the data set. Mean is used in place where the quantitative data doesnt have any outliers\n",
        "\n",
        " Median- The median is the middle score for a set of data that has been arranged in order of magnitude. This is mostly used in places where quantitative data has an outlier.\n",
        "\n",
        " Mode-The mode is the most frequent score in our data set. On a histogram it represents the highest bar in a bar chart or histogram. This is mostly used in categorical data.\n"
      ],
      "metadata": {
        "id": "PCgnMvku_f6J"
      }
    },
    {
      "cell_type": "markdown",
      "source": [
        "Q3  Explain the concept of dispersion. How do variance and standard deviation measure the spread of data?\n",
        "\n",
        "Ans-> Dispersion of data used to understands the distribution of data. It helps to understand the variation of data and provides a piece of information about the distribution data. Range, IOR, Variance, and Standard Deviation are the methods used to understand the distribution data.\n",
        "\n",
        "Variance measures how far each number in the dataset from the mean.\n",
        "\n",
        "Standard deviation is a squared root of the variance to get original values. Low standard deviation indicates data points close to mean."
      ],
      "metadata": {
        "id": "ih0wpKvR_f35"
      }
    },
    {
      "cell_type": "markdown",
      "source": [
        "Q4 What is a box plot, and what can it tell you about the distribution of data?\n",
        "\n",
        " Ans-> When we display the data distribution in a standardized way using 5 summary – minimum, Q1 (First Quartile), median, Q3(third Quartile), and maximum, it is called a Box plot.\n",
        "\n",
        " The box plot distribution will explain how tightly the data is grouped, how the data is skewed, and also about the symmetry of data."
      ],
      "metadata": {
        "id": "1GRSr0oZ_f0-"
      }
    },
    {
      "cell_type": "markdown",
      "source": [
        "Q5 Discuss the role of random sampling in making inferences about populations.\n",
        "\n",
        " Ans-> Random sampling plays a crucial role in making inferences about populations by ensuring that a selected sample is representative of the larger population, leading to minimimum bias and allowing researchers to generalize findings from the sample to the entire group with a higher degree of confidence"
      ],
      "metadata": {
        "id": "A-87qhn1_fyY"
      }
    },
    {
      "cell_type": "markdown",
      "source": [
        "Q6  Explain the concept of skewness and its types. How does skewness affect the interpretation of data?\n",
        "\n",
        " Ans-> Skewness is a measure of distortion of symmetric distribution. It measures the deviation of the given distribution of a random variable from a symmetric distribution, such as normal distribution. A normal distribution is without any skewness, as it is symmetrical on both sides. Hence, a curve is regarded as skewed if it is shifted towards the right or the left.\n",
        "\n",
        " Positive Skewness - If the given distribution is shifted to the left and with its tail on the right side, it is a positively skewed distribution. A positively skewed distribution assumes a skewness value of more than zero. Since the skewness of the given distribution is on the right, the mean value is greater than the median and moves towards the right, and the mode occurs at the highest frequency of the distribution.\n",
        "\n",
        " Negative Skewness - If the given distribution is shifted to the right and with its tail on the left side, it is a negatively skewed distribution. The skewness value of any distribution showing a negative skew is always less than zero. The mean value is less than the median and moves towards the left, and the mode occurs at the highest frequency of the distribution.\n",
        "\n"
      ],
      "metadata": {
        "id": "qzBSEytE_fvg"
      }
    },
    {
      "cell_type": "markdown",
      "source": [
        "Q7 What is the interquartile range (IQR), and how is it used to detect outliers?\n",
        "\n",
        " Ans-> IQR is used to measure variability by dividing a data set into quartiles. The data is sorted in ascending order and then we split it into 4 equal parts. The values Q1 (25th percentile), Q2 (50th percentile or median) and Q3 (75th percentile) separate dataset in 4 equal parts.\n",
        "\n",
        " Data points that fall below Q1−1.5×IQR or above Q3+1.5×IQR are considered outliers."
      ],
      "metadata": {
        "id": "dzGRhTxU_ftR"
      }
    },
    {
      "cell_type": "markdown",
      "source": [
        "Q8  Discuss the conditions under which the binomial distribution is used.\n",
        "\n",
        " Ans->"
      ],
      "metadata": {
        "id": "8yHb7Kfo_fqq"
      }
    },
    {
      "cell_type": "markdown",
      "source": [
        "Q9 Explain the properties of the normal distribution and the empirical rule (68-95-99.7 rule)\n",
        "\n",
        " Ans-> 68-95-99 rule states that for data with a normal distribution:\n",
        "\n",
        " Data has a distribution that is roughly 68% within one standard deviation of the mean.\n",
        "\n",
        " Two standard deviations around the mean include about 95% of the data\n",
        "\n",
        " Three standard deviations around the mean include 99.7% of the data.\n",
        "\n",
        " In another way, this rule says that most data points in a normal distribution are concentrated around the mean, and that less data points are discovered as one moves in either direction away from the mean."
      ],
      "metadata": {
        "id": "uGnWVpEv_foJ"
      }
    },
    {
      "cell_type": "markdown",
      "source": [
        "Q10 Provide a real-life example of a Poisson process and calculate the probability for a specific event.\n",
        "\n",
        " Ans-> A Poisson distribution is a discrete probability distribution. It gives the probability of an event happening a certain number of times (k) within a given interval of time or space\n",
        " Example-the number of students achieving a low and high mark in an exam"
      ],
      "metadata": {
        "id": "cEAp2q0X_fk7"
      }
    },
    {
      "cell_type": "markdown",
      "source": [
        "Q11 Explain what a random variable is and differentiate between discrete and continuous random variables.\n",
        "\n",
        " Ans-> A random variable is a variable whose value is determined by the outcome of a random experiment, essentially assigning a numerical value to each possible outcome in a sample space; it can be classified as either \"discrete\" (having a countable number of possible values) or \"continuous\" (capable of taking on any value within a specific range) depending on the nature of the experiment."
      ],
      "metadata": {
        "id": "oThVqDp8_fax"
      }
    },
    {
      "cell_type": "markdown",
      "source": [
        "Q12 Provide an example dataset, calculate both covariance and correlation, and interpret the results.\n",
        "\n",
        "  Ans-> x=2,3,6,1\n",
        "\n",
        "  y=3,5,6,8\n",
        "\n",
        "  covarience\n",
        "\n",
        "  x(Mean)=3  y(mean)=5.5\n",
        "\n",
        "  (x-x(mean))*(y-y(mean))=-1\n",
        "\n",
        "  -1/n-1=-1/3= -0.33\n",
        "\n",
        "  Interpretation is that they are negatively related\n",
        "\n",
        "  Correlation\n",
        "\n",
        "  varience of x= 4.66\n",
        "\n",
        "  varience of y= 5.66\n",
        "\n",
        "  corr= -0.33/4.66*5.66= -0.0125\n",
        "\n",
        "\n",
        "negatively correlated\n",
        "\n",
        "\n",
        "\n",
        "\n"
      ],
      "metadata": {
        "id": "kB0CKBdkAKe7"
      }
    },
    {
      "cell_type": "code",
      "source": [],
      "metadata": {
        "id": "YqLzr_-uAJ_r"
      },
      "execution_count": null,
      "outputs": []
    },
    {
      "cell_type": "code",
      "execution_count": null,
      "metadata": {
        "id": "uwlhh8_d9fps"
      },
      "outputs": [],
      "source": []
    }
  ]
}